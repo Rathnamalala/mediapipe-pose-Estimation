{
 "cells": [
  {
   "cell_type": "code",
   "execution_count": 1,
   "id": "2f5d27d3-f525-4b9d-99b2-d1a03bea8b5a",
   "metadata": {},
   "outputs": [],
   "source": [
    "####  Install and Import Dependencies ####"
   ]
  },
  {
   "cell_type": "code",
   "execution_count": null,
   "id": "5a3afd27-5639-4a0e-a10c-ede6fd45325d",
   "metadata": {},
   "outputs": [],
   "source": [
    "pip install mediapipe opencv-python"
   ]
  },
  {
   "cell_type": "code",
   "execution_count": null,
   "id": "824dbc11-45b0-42fc-8bad-0677b8397a7d",
   "metadata": {},
   "outputs": [],
   "source": [
    "import cv2\n",
    "import mediapipe as mp\n",
    "import numpy as np\n",
    "mp_drawing = mp.solutions.drawing_utils\n",
    "mp_pose = mp.solutuins.pose"
   ]
  }
 ],
 "metadata": {
  "kernelspec": {
   "display_name": "Python 3 (ipykernel)",
   "language": "python",
   "name": "python3"
  },
  "language_info": {
   "codemirror_mode": {
    "name": "ipython",
    "version": 3
   },
   "file_extension": ".py",
   "mimetype": "text/x-python",
   "name": "python",
   "nbconvert_exporter": "python",
   "pygments_lexer": "ipython3",
   "version": "3.12.7"
  }
 },
 "nbformat": 4,
 "nbformat_minor": 5
}
